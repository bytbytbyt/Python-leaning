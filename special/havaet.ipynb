{
 "cells": [
  {
   "attachments": {},
   "cell_type": "markdown",
   "metadata": {},
   "source": [
    "Some basic use for image operation during study  \n",
    "  \n",
    "(1) cut the imag  $[crop ((x_0 , y_0 , x_{len} , y_{len}))]$ \\\n",
    "&ensp; Hint : $ (x_0 , y_0 , x_{len} , y_{len}) $ is turple paramenter input  \n",
    "  \n",
    "(2) paste the imag in the origin image $[paste(image = imag_{name} , box( x_{len},y_{len}))]$<br >\n",
    "&ensp; Hint : $box (x_{len},y_{len})$ determine the paste location\\\n",
    "\n",
    "\n"
   ]
  },
  {
   "cell_type": "markdown",
   "metadata": {},
   "source": []
  }
 ],
 "metadata": {
  "language_info": {
   "name": "python"
  },
  "orig_nbformat": 4
 },
 "nbformat": 4,
 "nbformat_minor": 2
}
